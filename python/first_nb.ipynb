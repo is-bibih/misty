{
 "cells": [
  {
   "cell_type": "code",
   "execution_count": 23,
   "metadata": {},
   "outputs": [],
   "source": [
    "import os\n",
    "import time\n",
    "import gtts\n",
    "from mistyPy import Robot"
   ]
  },
  {
   "cell_type": "code",
   "execution_count": 24,
   "metadata": {},
   "outputs": [],
   "source": [
    "# crear objeto de robot\n",
    "misty = Robot('192.168.1.121')"
   ]
  },
  {
   "cell_type": "code",
   "execution_count": 25,
   "metadata": {},
   "outputs": [],
   "source": [
    "# crear una funcion para tts con misty\n",
    "\n",
    "def misty_tts(robot, message, lang='es', fname='temp.mp3'):\n",
    "    # generar archivo\n",
    "    sound = gtts.gTTS(message, lang=lang)\n",
    "    sound.save(fname)\n",
    "    # mandar a misty y reproducir\n",
    "    robot.uploadAudio(fname, overwrite=True)\n",
    "    robot.playAudio(fname)\n",
    "    # borrar el archivo local\n",
    "    os.remove(fname)"
   ]
  },
  {
   "cell_type": "code",
   "execution_count": 26,
   "metadata": {},
   "outputs": [],
   "source": [
    "# probar tts\n",
    "misty_tts(misty, 'Hola, ¿cómo estás?')\n",
    "time.sleep(3)\n",
    "misty_tts(misty, 'probando')"
   ]
  },
  {
   "cell_type": "code",
   "execution_count": 27,
   "metadata": {},
   "outputs": [],
   "source": [
    "# funcion para hacer un saludo\n",
    "\n",
    "def greet(robot, name, image='e_Admiration.jpg'):\n",
    "    robot.changeImage(image)\n",
    "    # arm, position, speed percent \n",
    "    robot.moveArmDegrees('right', -89, 30)\n",
    "    misty_tts(robot, 'hola, ' + name, lang='es')\n",
    "    time.sleep(2)\n",
    "    robot.moveArmDegrees('right', 50, 30)\n",
    "    robot.changeImage('e_DefaultContent.jpg')"
   ]
  },
  {
   "cell_type": "code",
   "execution_count": 9,
   "metadata": {},
   "outputs": [],
   "source": [
    "# probar saludo\n",
    "greet(misty, 'Vivi')"
   ]
  },
  {
   "cell_type": "code",
   "execution_count": 28,
   "metadata": {},
   "outputs": [],
   "source": [
    "# funcion para aprender caras nuevas\n",
    "\n",
    "def learn_face(robot):\n",
    "    misty_tts(robot,\n",
    "              'Por favor ve a la computadora.',\n",
    "              lang='es')\n",
    "    name = input('Introduce tu nombre.\\n')\n",
    "    misty_tts(robot,\n",
    "              'Por favor pon tu cara 30 centímetros'\n",
    "              + 'en frente de mí',\n",
    "              lang='es')\n",
    "    time.sleep(7)\n",
    "    misty.learnFace(name)\n",
    "    # check whether it was learned\n",
    "    if name in robot.getLearnedFaces():\n",
    "        message = 'He aprendido tu cara.'\n",
    "    else:\n",
    "        message = 'No pude aprender tu cara.'\n",
    "    misty_tts(robot, message, lang='es')\n",
    "    time.sleep(5)"
   ]
  },
  {
   "cell_type": "code",
   "execution_count": 13,
   "metadata": {},
   "outputs": [
    {
     "name": "stdout",
     "output_type": "stream",
     "text": [
      "Introduce tu nombre.\n",
      "vivi\n",
      "Please look at Misty's face for 15 seconds..\n",
      "15\n",
      "14\n",
      "13\n",
      "12\n",
      "11\n",
      "10\n",
      "9\n",
      "8\n",
      "7\n",
      "6\n",
      "5\n",
      "4\n",
      "3\n",
      "2\n",
      "1\n",
      "Face Captured!!\n",
      "Please allow 15 second processing time !\n",
      "15\n",
      "14\n",
      "13\n",
      "12\n",
      "11\n",
      "10\n",
      "9\n",
      "8\n",
      "7\n",
      "6\n",
      "5\n",
      "4\n",
      "3\n",
      "2\n",
      "1\n",
      "Face Trained\n"
     ]
    }
   ],
   "source": [
    "# intentar aprender cara\n",
    "learn_face(misty)"
   ]
  },
  {
   "cell_type": "code",
   "execution_count": 29,
   "metadata": {},
   "outputs": [],
   "source": [
    "# saludar si reconoce una cara, aprender si no\n",
    "\n",
    "def greet_learn(robot):\n",
    "    start_time = time.time()\n",
    "    robot.subscribe('FaceRecognition')\n",
    "    while (time.time() - start_time) < 30:\n",
    "        data = robot.faceRec()\n",
    "        if 'personName' in data:\n",
    "            name = data['personName']\n",
    "            if name == 'unknown_person':\n",
    "                misty_tts(robot,\n",
    "                          'Hola, no te conozco. ¿Quieres que intente'\n",
    "                          + ' aprender tu cara?',\n",
    "                          lang='es')\n",
    "                learn_face(robot)\n",
    "                time.sleep(10)\n",
    "            else:\n",
    "                greet(robot, name)\n",
    "            time.sleep(10)\n",
    "            start_time = time.time()\n",
    "        else:\n",
    "            time.sleep(1)\n",
    "    robot.unsubscribe('FaceRecognition')\n",
    "    print('timeout')"
   ]
  },
  {
   "cell_type": "code",
   "execution_count": 30,
   "metadata": {},
   "outputs": [
    {
     "name": "stderr",
     "output_type": "stream",
     "text": [
      "--- request header ---\n",
      "GET /pubsub HTTP/1.1\n",
      "Upgrade: websocket\n",
      "Host: 192.168.1.121\n",
      "Origin: http://192.168.1.121\n",
      "Sec-WebSocket-Key: hl1D/P14LOY6RZk1kXb9rw==\n",
      "Sec-WebSocket-Version: 13\n",
      "Connection: upgrade\n",
      "\n",
      "\n",
      "-----------------------\n",
      "--- response header ---\n",
      "HTTP/1.1 101 Switching Protocols\n",
      "Date: Thu, 14 Jan 2021 12:42:53 -0800\n",
      "Upgrade: websocket\n",
      "Connection: Upgrade\n",
      "Sec-WebSocket-Accept: tPvaPIFHT+ozQIXd6cPTluenymg=\n",
      "-----------------------\n",
      "error from callback <bound method Socket.on_open of <mistyPy.Socket object at 0x7f04f754f250>>: on_open() missing 1 required positional argument: 'ws'\n"
     ]
    },
    {
     "name": "stdout",
     "output_type": "stream",
     "text": [
      "FaceRecStarted\n"
     ]
    },
    {
     "name": "stderr",
     "output_type": "stream",
     "text": [
      "  File \"/usr/lib/python3.9/site-packages/websocket/_app.py\", line 344, in _callback\n",
      "    callback(*args)\n",
      "send: b\"\\x81\\xbe]\\xa9\\xefS&\\x8e\\xa0#8\\xdb\\x8e'4\\xc6\\x81tg\\x89\\xc8&3\\xda\\x9a1.\\xca\\x9d:?\\xcc\\xc8\\x7f}\\x8e\\xaa%8\\xc7\\x9b\\x1d<\\xc4\\x8atg\\x89\\xa1<3\\xcc\\xc3sz\\xe4\\x8a .\\xc8\\x886z\\x93\\xcftz\\xd4\"\n"
     ]
    },
    {
     "name": "stdout",
     "output_type": "stream",
     "text": [
      "### FaceRecognition  socket is closed ###\n"
     ]
    },
    {
     "name": "stderr",
     "output_type": "stream",
     "text": [
      "error from callback <bound method Socket.on_message of <mistyPy.Socket object at 0x7f04f754f250>>: on_message() missing 1 required positional argument: 'message'\n"
     ]
    },
    {
     "name": "stdout",
     "output_type": "stream",
     "text": [
      "timeout\n"
     ]
    },
    {
     "name": "stderr",
     "output_type": "stream",
     "text": [
      "  File \"/usr/lib/python3.9/site-packages/websocket/_app.py\", line 344, in _callback\n",
      "    callback(*args)\n",
      "error from callback <bound method Socket.on_error of <mistyPy.Socket object at 0x7f04f7e71b20>>: on_error() missing 1 required positional argument: 'error'\n",
      "  File \"/usr/lib/python3.9/site-packages/websocket/_app.py\", line 344, in _callback\n",
      "    callback(*args)\n",
      "error from callback <bound method Socket.on_error of <mistyPy.Socket object at 0x7f04f7ec0610>>: on_error() missing 1 required positional argument: 'error'\n",
      "  File \"/usr/lib/python3.9/site-packages/websocket/_app.py\", line 344, in _callback\n",
      "    callback(*args)\n",
      "error from callback <bound method Socket.on_error of <mistyPy.Socket object at 0x7f05145affa0>>: on_error() missing 1 required positional argument: 'error'\n",
      "send: b\"\\x88\\x82'\\x98\\xb7\\x7f$p\"\n",
      "  File \"/usr/lib/python3.9/site-packages/websocket/_app.py\", line 344, in _callback\n",
      "    callback(*args)\n",
      "send: b'\\x88\\x822kI\\xb81\\x83'\n",
      "send: b'\\x88\\x82U\\xfd\\xbd\\xbfV\\x15'\n",
      "error from callback <bound method Socket.on_close of <mistyPy.Socket object at 0x7f04f7e71b20>>: on_close() missing 1 required positional argument: 'ws'\n",
      "  File \"/usr/lib/python3.9/site-packages/websocket/_app.py\", line 344, in _callback\n",
      "    callback(*args)\n",
      "error from callback <bound method Socket.on_close of <mistyPy.Socket object at 0x7f04f7ec0610>>: on_close() missing 1 required positional argument: 'ws'\n",
      "error from callback <bound method Socket.on_close of <mistyPy.Socket object at 0x7f05145affa0>>: on_close() missing 1 required positional argument: 'ws'\n",
      "  File \"/usr/lib/python3.9/site-packages/websocket/_app.py\", line 344, in _callback\n",
      "    callback(*args)\n",
      "  File \"/usr/lib/python3.9/site-packages/websocket/_app.py\", line 344, in _callback\n",
      "    callback(*args)\n",
      "error from callback <bound method Socket.on_error of <mistyPy.Socket object at 0x7f04f7ec04c0>>: on_error() missing 1 required positional argument: 'error'\n",
      "error from callback <bound method Socket.on_error of <mistyPy.Socket object at 0x7f04f754f250>>: on_error() missing 1 required positional argument: 'error'\n",
      "  File \"/usr/lib/python3.9/site-packages/websocket/_app.py\", line 344, in _callback\n",
      "    callback(*args)\n",
      "send: b'\\x88\\x82t \\xf6\\xf5w\\xc8'\n",
      "  File \"/usr/lib/python3.9/site-packages/websocket/_app.py\", line 344, in _callback\n",
      "    callback(*args)\n",
      "error from callback <bound method Socket.on_close of <mistyPy.Socket object at 0x7f04f7ec04c0>>: on_close() missing 1 required positional argument: 'ws'\n",
      "  File \"/usr/lib/python3.9/site-packages/websocket/_app.py\", line 344, in _callback\n",
      "    callback(*args)\n",
      "send: b'\\x88\\x82o\\xd4\\x9fwl<'\n",
      "error from callback <bound method Socket.on_close of <mistyPy.Socket object at 0x7f04f754f250>>: on_close() missing 1 required positional argument: 'ws'\n",
      "  File \"/usr/lib/python3.9/site-packages/websocket/_app.py\", line 344, in _callback\n",
      "    callback(*args)\n"
     ]
    }
   ],
   "source": [
    "# probar\n",
    "greet_learn(misty)"
   ]
  }
 ],
 "metadata": {
  "kernelspec": {
   "display_name": "Python 3",
   "language": "python",
   "name": "python3"
  },
  "language_info": {
   "codemirror_mode": {
    "name": "ipython",
    "version": 3
   },
   "file_extension": ".py",
   "mimetype": "text/x-python",
   "name": "python",
   "nbconvert_exporter": "python",
   "pygments_lexer": "ipython3",
   "version": "3.9.1"
  }
 },
 "nbformat": 4,
 "nbformat_minor": 4
}
